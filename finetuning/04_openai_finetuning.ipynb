{
 "cells": [
  {
   "cell_type": "markdown",
   "id": "f8fc1d3c-b428-4b82-b2bf-ef6a4d937868",
   "metadata": {},
   "source": [
    "## OpenAI finetuning\n",
    "\n",
    "1. Load dataset 1000 records cleaned NER\n",
    "2. Split dataset 80/20\n",
    "3. Finetune gpt-4o-mini-2024-07-18\n",
    "4. Extract loss and accuracy metrics to visualize the effectiveness of fine-tuning"
   ]
  },
  {
   "cell_type": "code",
   "execution_count": 26,
   "id": "b345e903-7b9d-4c0e-8f8f-ee712ac96039",
   "metadata": {},
   "outputs": [],
   "source": [
    "import jsonlines\n",
    "from openai import OpenAI\n",
    "from sklearn.model_selection import train_test_split\n",
    "import matplotlib.pyplot as plt\n",
    "import os\n",
    "import json\n",
    "import time"
   ]
  },
  {
   "cell_type": "code",
   "execution_count": 4,
   "id": "086391c1-85f1-432e-96d3-a881b86ab9bf",
   "metadata": {},
   "outputs": [],
   "source": [
    "os.environ[\"OPENAI_API_KEY\"] = \"\""
   ]
  },
  {
   "cell_type": "code",
   "execution_count": 5,
   "id": "b286ab52-9e6f-41e8-90ec-d95b1ff95d44",
   "metadata": {},
   "outputs": [],
   "source": [
    "conversations_file = 'openai_files/multi_turn_conversation_virgin_ner_replaced.jsonl'"
   ]
  },
  {
   "cell_type": "code",
   "execution_count": 6,
   "id": "0e5c2795-1121-4b84-b7f4-b50d15406925",
   "metadata": {},
   "outputs": [],
   "source": [
    "conversations = []\n",
    "with jsonlines.open(conversations_file) as reader:\n",
    "    for conversation in reader:\n",
    "        conversations.append(conversation)"
   ]
  },
  {
   "cell_type": "code",
   "execution_count": 8,
   "id": "87e2c262-04e3-4cac-8a41-a4f15c6f5e81",
   "metadata": {},
   "outputs": [
    {
     "data": {
      "text/plain": [
       "[{'role': 'system',\n",
       "  'content': 'You are a polite customer assistant whose goal is to provide effective help.'},\n",
       " {'role': 'user',\n",
       "  'content': 'so i wait [TIME] and then they are rude and arrogant amp unhelpful after which she is raising a technical case'},\n",
       " {'role': 'assistant',\n",
       "  'content': 'If youre unhappy with your experience on this call please contact us on our website'}]"
      ]
     },
     "execution_count": 8,
     "metadata": {},
     "output_type": "execute_result"
    }
   ],
   "source": [
    "conversations[0]"
   ]
  },
  {
   "cell_type": "code",
   "execution_count": 15,
   "id": "db266be0-fe29-4179-bfaf-723ce71dc68f",
   "metadata": {},
   "outputs": [],
   "source": [
    "def split_and_save_conversations(conversations, train_filename, val_filename, max_records=None, test_size=0.2, random_state=42):\n",
    "    # Limit the number of records if max_records is set\n",
    "    if max_records is not None:\n",
    "        conversations = conversations[:max_records]\n",
    "\n",
    "    print(f\"Total number of conversations before splitting: {len(conversations)}\")\n",
    "\n",
    "    # Split the data into training and validation sets\n",
    "    train_conversations, val_conversations = train_test_split(conversations, test_size=test_size, random_state=random_state)\n",
    "\n",
    "    # Save training conversations\n",
    "    with open(train_filename, 'w', encoding='utf-8') as train_file:\n",
    "        for conversation in train_conversations:\n",
    "            train_file.write(json.dumps({\"messages\": conversation}, ensure_ascii=False) + '\\n')\n",
    "\n",
    "    # Save validation conversations\n",
    "    with open(val_filename, 'w', encoding='utf-8') as val_file:\n",
    "        for conversation in val_conversations:\n",
    "            val_file.write(json.dumps({\"messages\": conversation}, ensure_ascii=False) + '\\n')\n",
    "\n",
    "    print(f\"Training set size: {len(train_conversations)}\")\n",
    "    print(f\"Validation set size: {len(val_conversations)}\")"
   ]
  },
  {
   "cell_type": "code",
   "execution_count": 20,
   "id": "6ae25d81-8fe4-4e0b-b79f-8b9a79ae6a59",
   "metadata": {},
   "outputs": [
    {
     "name": "stdout",
     "output_type": "stream",
     "text": [
      "Total number of conversations before splitting: 1000\n",
      "Training set size: 800\n",
      "Validation set size: 200\n"
     ]
    }
   ],
   "source": [
    "train_file = 'openai_files/openai_train.jsonl'\n",
    "val_file = 'openai_files/openai_val.jsonl'\n",
    "split_and_save_conversations(conversations, train_file, val_file)"
   ]
  },
  {
   "cell_type": "markdown",
   "id": "1c717ae0-7e6b-4ff6-bdb7-521840c59a21",
   "metadata": {},
   "source": [
    "## Upload dataset to finetuning API and start job\n",
    "\n",
    "1. Create dataset split\n",
    "2. Upload files to OpenAI API\n",
    "3. Start job and ping API each 300 seconds\n",
    "4. Collect metrics when ready"
   ]
  },
  {
   "cell_type": "code",
   "execution_count": 21,
   "id": "c247c3cc-bf12-490d-b7ac-7b9fa967b8dc",
   "metadata": {},
   "outputs": [],
   "source": [
    "client = OpenAI()\n",
    "def create_file_openai(client, filename):\n",
    "    return client.files.create(\n",
    "        file=open(filename, 'rb'),\n",
    "        purpose='fine-tune'\n",
    "    )"
   ]
  },
  {
   "cell_type": "code",
   "execution_count": 22,
   "id": "993622e6-3fd4-4f12-b53f-943d9c873ffa",
   "metadata": {},
   "outputs": [
    {
     "name": "stdout",
     "output_type": "stream",
     "text": [
      "FileObject(id='file-P2XFqcAZNq85DZkgWdobdC', bytes=572508, created_at=1740910001, filename='openai_train.jsonl', object='file', purpose='fine-tune', status='processed', status_details=None, expires_at=None)\n",
      "FileObject(id='file-EhrNM4Bc5ssUYsqLCBd6W3', bytes=143823, created_at=1740910002, filename='openai_val.jsonl', object='file', purpose='fine-tune', status='processed', status_details=None, expires_at=None)\n"
     ]
    }
   ],
   "source": [
    "file_train = create_file_openai(client, train_file)\n",
    "file_val = create_file_openai(client, val_file)\n",
    "print(file_train)\n",
    "print(file_val)"
   ]
  },
  {
   "cell_type": "code",
   "execution_count": 23,
   "id": "f6d3e7df-24ba-42f0-b301-fd5eceba4b03",
   "metadata": {},
   "outputs": [
    {
     "name": "stdout",
     "output_type": "stream",
     "text": [
      "FineTuningJob(id='ftjob-paMg7p0iYQNbHHPYpwpXOOpp', created_at=1740910019, error=Error(code=None, message=None, param=None), fine_tuned_model=None, finished_at=None, hyperparameters=Hyperparameters(batch_size='auto', learning_rate_multiplier='auto', n_epochs='auto'), model='gpt-4o-mini-2024-07-18', object='fine_tuning.job', organization_id='org-6lWajcIIwNqauAN9JqnRf3N5', result_files=[], seed=1212125188, status='validating_files', trained_tokens=None, training_file='file-P2XFqcAZNq85DZkgWdobdC', validation_file='file-EhrNM4Bc5ssUYsqLCBd6W3', estimated_finish=None, integrations=[], method=Method(dpo=None, supervised=MethodSupervised(hyperparameters=MethodSupervisedHyperparameters(batch_size='auto', learning_rate_multiplier='auto', n_epochs='auto')), type='supervised'), user_provided_suffix=None)\n"
     ]
    }
   ],
   "source": [
    "job = client.fine_tuning.jobs.create(\n",
    "    training_file=file_train.id,\n",
    "    validation_file=file_val.id,\n",
    "    model=\"gpt-4o-mini-2024-07-18\",\n",
    ")\n",
    "\n",
    "print(job)"
   ]
  },
  {
   "cell_type": "code",
   "execution_count": 24,
   "id": "e41dec86-a311-4cd7-a5a0-37aa6420a0f1",
   "metadata": {},
   "outputs": [],
   "source": [
    "def parse_metrics(event):\n",
    "    step = event.data.get(\"step\", \"N/A\")\n",
    "    total_steps = event.data.get(\"total_steps\", \"N/A\")\n",
    "    train_loss = event.data.get(\"train_loss\", \"N/A\")\n",
    "    accuracy = event.data.get(\"train_mean_token_accuracy\", \"N/A\")\n",
    "    \n",
    "    print(f\"Step {step}/{total_steps}: Loss = {train_loss}, Accuracy = {accuracy}\")"
   ]
  },
  {
   "cell_type": "code",
   "execution_count": 27,
   "id": "cf7baaff-8836-4b44-82e7-e57764748b7e",
   "metadata": {},
   "outputs": [
    {
     "name": "stdout",
     "output_type": "stream",
     "text": [
      "Job status: validating_files. Checking again...\n",
      "Job status: running. Checking again...\n",
      "Job status: running. Checking again...\n",
      "Job status: running. Checking again...\n",
      "Job status: running. Checking again...\n",
      "Job status: running. Checking again...\n",
      "Job status: running. Checking again...\n",
      "Job status: running. Checking again...\n",
      "Job status: running. Checking again...\n",
      "Job status: running. Checking again...\n",
      "Job finished successfully!\n",
      "Step 2400/2400: Loss = 0.5784786939620972, Accuracy = 0.7777777910232544\n",
      "Step 2399/2400: Loss = 0.9093235731124878, Accuracy = 0.6666666865348816\n",
      "Step 2398/2400: Loss = 0.45006853342056274, Accuracy = 0.8297872543334961\n",
      "Step 2397/2400: Loss = 0.31206244230270386, Accuracy = 0.8799999952316284\n",
      "Step 2396/2400: Loss = 0.6031255125999451, Accuracy = 0.8064516186714172\n",
      "Step 2395/2400: Loss = 0.6872339248657227, Accuracy = 0.8333333134651184\n",
      "Step 2394/2400: Loss = 0.5476832389831543, Accuracy = 0.7647058963775635\n",
      "Step 2393/2400: Loss = 0.4030855894088745, Accuracy = 0.8888888955116272\n",
      "Step 2392/2400: Loss = 0.9289957284927368, Accuracy = 0.6875\n",
      "Step 2391/2400: Loss = 1.1507949829101562, Accuracy = 0.774193525314331\n",
      "Step 2390/2400: Loss = 0.4277695119380951, Accuracy = 0.8571428656578064\n",
      "Step 2389/2400: Loss = 1.1457240581512451, Accuracy = 0.6800000071525574\n",
      "Step 2388/2400: Loss = 0.6024224162101746, Accuracy = 0.8461538553237915\n",
      "Step 2387/2400: Loss = 0.3495667278766632, Accuracy = 0.9285714030265808\n",
      "Step 2386/2400: Loss = 1.290399432182312, Accuracy = 0.6666666865348816\n",
      "Step 2385/2400: Loss = 1.2604573965072632, Accuracy = 0.6190476417541504\n",
      "Step 2384/2400: Loss = 0.3421119153499603, Accuracy = 0.9047619104385376\n",
      "Step 2383/2400: Loss = 0.17908041179180145, Accuracy = 0.9047619104385376\n",
      "Step 2382/2400: Loss = 0.1687423586845398, Accuracy = 0.9615384340286255\n",
      "Step 2381/2400: Loss = 0.32689937949180603, Accuracy = 0.9285714030265808\n",
      "Step 2380/2400: Loss = 0.4427521526813507, Accuracy = 0.9090909361839294\n",
      "Step 2379/2400: Loss = 1.1080466508865356, Accuracy = 0.7222222089767456\n",
      "Step 2378/2400: Loss = 0.4038180708885193, Accuracy = 0.8846153616905212\n",
      "Step 2377/2400: Loss = 0.6091713309288025, Accuracy = 0.7777777910232544\n",
      "Step 2376/2400: Loss = 0.9127437472343445, Accuracy = 0.7333333492279053\n",
      "Step 2375/2400: Loss = 0.7161213755607605, Accuracy = 0.7714285850524902\n",
      "Step 2374/2400: Loss = 0.9091622829437256, Accuracy = 0.8032786846160889\n",
      "Step 2373/2400: Loss = 1.5428838729858398, Accuracy = 0.7058823704719543\n",
      "Step 2372/2400: Loss = 1.1659002304077148, Accuracy = 0.7058823704719543\n",
      "Step 2371/2400: Loss = 1.070227026939392, Accuracy = 0.6875\n",
      "Step 2370/2400: Loss = 1.4065744876861572, Accuracy = 0.800000011920929\n",
      "Step 2369/2400: Loss = 1.1569502353668213, Accuracy = 0.6428571343421936\n",
      "Step 2368/2400: Loss = 0.5986810326576233, Accuracy = 0.7575757503509521\n",
      "Step 2367/2400: Loss = 1.540642261505127, Accuracy = 0.4736842215061188\n",
      "Step 2366/2400: Loss = 0.6846085786819458, Accuracy = 0.8113207817077637\n",
      "Step 2365/2400: Loss = 0.4353425204753876, Accuracy = 0.8780487775802612\n",
      "Step 2364/2400: Loss = 0.18986822664737701, Accuracy = 1.0\n",
      "Step 2363/2400: Loss = 0.9635486602783203, Accuracy = 0.692307710647583\n",
      "Step 2362/2400: Loss = 0.39831987023353577, Accuracy = 0.9333333373069763\n",
      "Step 2361/2400: Loss = 1.0539262294769287, Accuracy = 0.7124999761581421\n",
      "Step 2360/2400: Loss = 0.9150278568267822, Accuracy = 0.7222222089767456\n",
      "Step 2359/2400: Loss = 0.5768970251083374, Accuracy = 0.8666666746139526\n",
      "Step 2358/2400: Loss = 0.29390883445739746, Accuracy = 0.875\n",
      "Step 2357/2400: Loss = 0.6336332559585571, Accuracy = 0.8260869383811951\n",
      "Step 2356/2400: Loss = 0.11553764343261719, Accuracy = 1.0\n",
      "Step 2355/2400: Loss = 0.9717323780059814, Accuracy = 0.7272727489471436\n",
      "Step 2354/2400: Loss = 0.22147773206233978, Accuracy = 0.9411764740943909\n",
      "Step 2353/2400: Loss = 0.9866258502006531, Accuracy = 0.7021276354789734\n",
      "Step 2352/2400: Loss = 0.23026879131793976, Accuracy = 1.0\n",
      "Step 2351/2400: Loss = 0.6021249294281006, Accuracy = 0.875\n",
      "Step 2350/2400: Loss = 1.1839675903320312, Accuracy = 0.7857142686843872\n",
      "Step 2349/2400: Loss = 1.0673986673355103, Accuracy = 0.5833333134651184\n",
      "Step 2348/2400: Loss = 0.12574917078018188, Accuracy = 1.0\n",
      "Step 2347/2400: Loss = 0.36254602670669556, Accuracy = 0.9230769276618958\n",
      "Step 2346/2400: Loss = 1.0741000175476074, Accuracy = 0.6440678238868713\n",
      "Step 2345/2400: Loss = 1.5499898195266724, Accuracy = 0.5869565010070801\n",
      "Step 2344/2400: Loss = 0.6424592137336731, Accuracy = 0.7878788113594055\n",
      "Step 2343/2400: Loss = 0.6549874544143677, Accuracy = 0.8571428656578064\n",
      "Step 2342/2400: Loss = 0.7062013745307922, Accuracy = 0.8301886916160583\n",
      "Step 2341/2400: Loss = 0.4752803146839142, Accuracy = 0.7692307829856873\n",
      "Step 2340/2400: Loss = 0.6026180982589722, Accuracy = 0.807692289352417\n",
      "Step 2339/2400: Loss = 1.152037262916565, Accuracy = 0.7307692170143127\n",
      "Step 2338/2400: Loss = 0.9792313575744629, Accuracy = 0.7777777910232544\n",
      "Step 2337/2400: Loss = 1.2184739112854004, Accuracy = 0.7222222089767456\n",
      "Step 2336/2400: Loss = 0.6759421825408936, Accuracy = 0.8620689511299133\n",
      "Step 2335/2400: Loss = 0.6325774192810059, Accuracy = 0.774193525314331\n",
      "Step 2334/2400: Loss = 0.7655847072601318, Accuracy = 0.75\n",
      "Step 2333/2400: Loss = 0.49707528948783875, Accuracy = 0.8113207817077637\n",
      "Step 2332/2400: Loss = 0.34829267859458923, Accuracy = 0.8333333134651184\n",
      "Step 2331/2400: Loss = 1.042643666267395, Accuracy = 0.75\n",
      "Step 2330/2400: Loss = 0.3878655433654785, Accuracy = 0.8983050584793091\n",
      "Step 2329/2400: Loss = 0.7598187327384949, Accuracy = 0.7692307829856873\n",
      "Step 2328/2400: Loss = 1.979946494102478, Accuracy = 0.542553186416626\n",
      "Step 2327/2400: Loss = 1.4365339279174805, Accuracy = 0.6266666650772095\n",
      "Step 2326/2400: Loss = 0.43023478984832764, Accuracy = 0.8793103694915771\n",
      "Step 2325/2400: Loss = 0.6307917237281799, Accuracy = 0.8292682766914368\n",
      "Step 2324/2400: Loss = 1.4374068975448608, Accuracy = 0.5645161271095276\n",
      "Step 2323/2400: Loss = 0.8635790348052979, Accuracy = 0.7058823704719543\n",
      "Step 2322/2400: Loss = 0.5972698330879211, Accuracy = 0.849056601524353\n",
      "Step 2321/2400: Loss = 0.9194261431694031, Accuracy = 0.761904776096344\n",
      "Step 2320/2400: Loss = 0.36569270491600037, Accuracy = 0.800000011920929\n",
      "Step 2319/2400: Loss = 0.9748945832252502, Accuracy = 0.7894737124443054\n",
      "Step 2318/2400: Loss = 1.5653167963027954, Accuracy = 0.5714285969734192\n",
      "Step 2317/2400: Loss = 1.6105138063430786, Accuracy = 0.5909090638160706\n",
      "Step 2316/2400: Loss = 1.062146782875061, Accuracy = 0.6842105388641357\n",
      "Step 2315/2400: Loss = 1.156648874282837, Accuracy = 0.6984127163887024\n",
      "Step 2314/2400: Loss = 0.7170547246932983, Accuracy = 0.7096773982048035\n",
      "Step 2313/2400: Loss = 0.7286792397499084, Accuracy = 0.7428571581840515\n",
      "Step 2312/2400: Loss = 0.005688667297363281, Accuracy = 1.0\n",
      "Step 2311/2400: Loss = 0.6776343584060669, Accuracy = 0.7592592835426331\n",
      "Step 2310/2400: Loss = 0.7235605716705322, Accuracy = 0.7333333492279053\n",
      "Step 2309/2400: Loss = 0.4779225289821625, Accuracy = 0.9166666865348816\n",
      "Step 2308/2400: Loss = 0.24845638871192932, Accuracy = 0.8999999761581421\n",
      "Step 2307/2400: Loss = 1.3910222053527832, Accuracy = 0.699999988079071\n",
      "Step 2306/2400: Loss = 0.9182838201522827, Accuracy = 0.6538461446762085\n",
      "Step 2305/2400: Loss = 0.541713535785675, Accuracy = 0.9545454382896423\n",
      "Step 2304/2400: Loss = 1.1717628240585327, Accuracy = 0.6818181872367859\n",
      "Step 2303/2400: Loss = 1.2382885217666626, Accuracy = 0.6410256624221802\n",
      "Step 2302/2400: Loss = 0.10969873517751694, Accuracy = 1.0\n",
      "Step 2301/2400: Loss = 1.1342403888702393, Accuracy = 0.739130437374115\n"
     ]
    }
   ],
   "source": [
    "job_id = job.id\n",
    "max_events = 100\n",
    "\n",
    "while True:\n",
    "    job_status = client.fine_tuning.jobs.retrieve(job_id)\n",
    "    \n",
    "    if job_status.status == \"succeeded\":\n",
    "        print(\"Job finished successfully!\")\n",
    "\n",
    "        events = client.fine_tuning.jobs.list_events(fine_tuning_job_id=job_id, limit=max_events)\n",
    "\n",
    "        count = 0\n",
    "        for event in events:\n",
    "            if event.type == \"metrics\":\n",
    "                parse_metrics(event)\n",
    "                count += 1\n",
    "                if count >= max_events:\n",
    "                    break\n",
    "\n",
    "        break\n",
    "\n",
    "    elif job_status.status == \"failed\":\n",
    "        print(\"Job failed.\")\n",
    "        break\n",
    "\n",
    "    else:\n",
    "        print(f\"Job status: {job_status.status}. Checking again...\")\n",
    "        time.sleep(300)"
   ]
  },
  {
   "cell_type": "code",
   "execution_count": 29,
   "id": "05f36881-713b-4a7a-b0b8-0f58eb81f30d",
   "metadata": {},
   "outputs": [
    {
     "name": "stdout",
     "output_type": "stream",
     "text": [
      "ft:gpt-4o-mini-2024-07-18:smart-cloud::B6bGpKIt\n"
     ]
    }
   ],
   "source": [
    "# Get model parameters\n",
    "job_info = client.fine_tuning.jobs.retrieve(job_id)\n",
    "print(job_info.fine_tuned_model)"
   ]
  },
  {
   "cell_type": "code",
   "execution_count": null,
   "id": "7ec7923c-128c-4993-ad80-d73323ab7786",
   "metadata": {},
   "outputs": [],
   "source": [
    "def extract_metrics(events):\n",
    "    steps, losses, accuracies = [], [], []\n",
    "    \n",
    "    for event in events:\n",
    "        if event.type == \"metrics\":\n",
    "            steps.append(event.data.get(\"step\", 0))\n",
    "            losses.append(event.data.get(\"train_loss\", 0))\n",
    "            accuracies.append(event.data.get(\"train_mean_token_accuracy\", 0))\n",
    "    \n",
    "    return steps, losses, accuracies\n",
    "\n",
    "def plot_metrics(steps, losses, accuracies):\n",
    "    fig, ax1 = plt.subplots()\n",
    "\n",
    "    # Plot loss\n",
    "    ax1.set_xlabel(\"Training Steps\")\n",
    "    ax1.set_ylabel(\"Loss\", color=\"tab:red\")\n",
    "    ax1.plot(steps, losses, color=\"tab:red\", label=\"Loss\")\n",
    "    ax1.tick_params(axis=\"y\", labelcolor=\"tab:red\")\n",
    "\n",
    "    # Plot accuracy\n",
    "    ax2 = ax1.twinx()\n",
    "    ax2.set_ylabel(\"Accuracy\", color=\"tab:blue\")\n",
    "    ax2.plot(steps, accuracies, color=\"tab:blue\", label=\"Accuracy\")\n",
    "    ax2.tick_params(axis=\"y\", labelcolor=\"tab:blue\")\n",
    "\n",
    "    plt.title(\"Fine-Tuning Loss & Accuracy\")\n",
    "    fig.tight_layout()\n",
    "    plt.show()"
   ]
  },
  {
   "cell_type": "code",
   "execution_count": null,
   "id": "e6d0fe80-74e0-49c7-a52a-a08c4386533e",
   "metadata": {},
   "outputs": [],
   "source": [
    "all_events = []\n",
    "after = None\n",
    "\n",
    "while True:\n",
    "    response = client.fine_tuning.jobs.list_events(fine_tuning_job_id=job_id, limit=100, after=after)\n",
    "    events = response.data\n",
    "\n",
    "    if not events:\n",
    "        break\n",
    "\n",
    "    all_events.extend(events)\n",
    "    after = events[-1].id\n",
    "\n",
    "print(f\"Total events retrieved: {len(all_events)}\")"
   ]
  },
  {
   "cell_type": "code",
   "execution_count": null,
   "id": "4664d87d-9614-4cf3-83de-992c14671bb0",
   "metadata": {},
   "outputs": [],
   "source": [
    "steps, losses, accuracies = extract_metrics(all_events)\n",
    "plot_metrics(steps, losses, accuracies)"
   ]
  }
 ],
 "metadata": {
  "kernelspec": {
   "display_name": "Python (finetenv)",
   "language": "python",
   "name": "finetenv"
  },
  "language_info": {
   "codemirror_mode": {
    "name": "ipython",
    "version": 3
   },
   "file_extension": ".py",
   "mimetype": "text/x-python",
   "name": "python",
   "nbconvert_exporter": "python",
   "pygments_lexer": "ipython3",
   "version": "3.11.11"
  }
 },
 "nbformat": 4,
 "nbformat_minor": 5
}
