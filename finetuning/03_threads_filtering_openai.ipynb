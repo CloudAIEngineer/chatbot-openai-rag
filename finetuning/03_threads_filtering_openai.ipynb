{
 "cells": [
  {
   "cell_type": "code",
   "execution_count": 1,
   "id": "0af76c9c-6769-4434-8027-eb4321f979a1",
   "metadata": {},
   "outputs": [],
   "source": [
    "import warnings\n",
    "warnings.filterwarnings(\"ignore\")\n",
    "import re\n",
    "import jsonlines\n",
    "import nltk\n",
    "import spacy\n",
    "from nltk.sentiment import SentimentIntensityAnalyzer"
   ]
  },
  {
   "cell_type": "markdown",
   "id": "1d60cee8-2e5b-4503-9acb-c4afae867812",
   "metadata": {},
   "source": [
    "# Sentiment Analysis for Negative User Messages\n",
    "\n",
    "Load file with conversations and keep only \"negative\" messages in a separate list.\n",
    "\n",
    "**Example:**  \n",
    "If a user says, \"This is the worst service ever,\" it will be flagged as negative and the entire conversation will be collected."
   ]
  },
  {
   "cell_type": "code",
   "execution_count": 2,
   "id": "e569cb59-fdca-4351-b832-c4f7ea5c4827",
   "metadata": {},
   "outputs": [
    {
     "name": "stderr",
     "output_type": "stream",
     "text": [
      "[nltk_data] Downloading package vader_lexicon to\n",
      "[nltk_data]     /Users/oksana/nltk_data...\n",
      "[nltk_data]   Package vader_lexicon is already up-to-date!\n"
     ]
    },
    {
     "data": {
      "text/plain": [
       "True"
      ]
     },
     "execution_count": 2,
     "metadata": {},
     "output_type": "execute_result"
    }
   ],
   "source": [
    "nltk.download('vader_lexicon')"
   ]
  },
  {
   "cell_type": "code",
   "execution_count": 3,
   "id": "6edfebfa-e96f-4c3c-a400-c748a63ad7d4",
   "metadata": {},
   "outputs": [],
   "source": [
    "threads_file = \"openai_files/multi_turn_conversation_virgin.jsonl\""
   ]
  },
  {
   "cell_type": "code",
   "execution_count": 12,
   "id": "85fe3316-a394-4b68-9d4d-f4bf510441c8",
   "metadata": {},
   "outputs": [
    {
     "name": "stdout",
     "output_type": "stream",
     "text": [
      "Collected 2781 conversations with negative user messages.\n"
     ]
    }
   ],
   "source": [
    "# Initialize sentiment analyzer\n",
    "sia = SentimentIntensityAnalyzer()\n",
    "\n",
    "# List to store conversations with negative user messages\n",
    "conversations_with_negative_messages = []\n",
    "\n",
    "with jsonlines.open(threads_file) as reader:  # Change \"data.jsonl\" to your filename\n",
    "    for conversation in reader:\n",
    "        negative_found = False\n",
    "        # Check all messages in the conversation\n",
    "        for message in conversation:\n",
    "            if message[\"role\"] == \"user\":\n",
    "                sentiment_score = sia.polarity_scores(message[\"content\"])[\"compound\"]\n",
    "                if sentiment_score < -0.3:  # Threshold for negativity\n",
    "                    negative_found = True\n",
    "                    break  # No need to check further messages once a negative message is found\n",
    "        # If a negative message is found, add the entire conversation to the list\n",
    "        if negative_found:\n",
    "            conversations_with_negative_messages.append(conversation)\n",
    "\n",
    "# Print out the conversations with negative user messages\n",
    "print(f\"Collected {len(conversations_with_negative_messages)} conversations with negative user messages.\")"
   ]
  },
  {
   "cell_type": "code",
   "execution_count": 5,
   "id": "af5c301d-eb05-4691-a4ef-62297a307962",
   "metadata": {},
   "outputs": [
    {
     "data": {
      "text/plain": [
       "[[{'role': 'system',\n",
       "   'content': 'You are a polite customer assistant whose goal is to provide effective help.'},\n",
       "  {'role': 'user',\n",
       "   'content': 'On worst Train journey in long time from stockport to euston 943 total overcrowding and no declassification'},\n",
       "  {'role': 'assistant',\n",
       "   'content': 'Sorry to hear that Sarah have you spoken with any staff onboard'},\n",
       "  {'role': 'user',\n",
       "   'content': 'Poor show Train Manager is hiding in first class and wont come and speak to us'},\n",
       "  {'role': 'user',\n",
       "   'content': 'Yes and the Manager response to everyone is to leave the Train and get next We have business meetings as soon as arrive so cant'},\n",
       "  {'role': 'assistant',\n",
       "   'content': 'Please accept our apologies Sarah But it would be the train manager who would be best to speak to regarding this'},\n",
       "  {'role': 'assistant',\n",
       "   'content': 'I see sorry its so busy for you had you reserved a seat'},\n",
       "  {'role': 'user', 'content': 'We would if didnt hide declassified'},\n",
       "  {'role': 'assistant', 'content': 'Ill pass on your feedback'}]]"
      ]
     },
     "execution_count": 5,
     "metadata": {},
     "output_type": "execute_result"
    }
   ],
   "source": [
    "conversations_with_negative_messages[9:10]"
   ]
  },
  {
   "cell_type": "code",
   "execution_count": 6,
   "id": "350d70a0-7707-4b6e-9399-cd175ee8d2be",
   "metadata": {},
   "outputs": [
    {
     "name": "stdout",
     "output_type": "stream",
     "text": [
      "Prepared 2781 documents.\n"
     ]
    }
   ],
   "source": [
    "documents = []\n",
    "\n",
    "# Iterate through conversations with negative messages\n",
    "for conversation in conversations_with_negative_messages:\n",
    "    concatenated_conversation = []\n",
    "    \n",
    "    for message in conversation:\n",
    "        if message[\"role\"] in [\"user\", \"assistant\"]:\n",
    "            concatenated_conversation.append(message[\"content\"])\n",
    "    \n",
    "    documents.append(\" \".join(concatenated_conversation))\n",
    "\n",
    "print(f\"Prepared {len(documents)} documents.\")"
   ]
  },
  {
   "cell_type": "code",
   "execution_count": 44,
   "id": "607e87a4-c016-42df-bddd-5d29f86af95d",
   "metadata": {},
   "outputs": [
    {
     "data": {
      "text/plain": [
       "'so i wait almost 3 hours and then they are rude and arrogant amp unhelpful after which she is raising a technical case If youre unhappy with your experience on this call please contact us on our website'"
      ]
     },
     "execution_count": 44,
     "metadata": {},
     "output_type": "execute_result"
    }
   ],
   "source": [
    "documents[0]"
   ]
  },
  {
   "cell_type": "code",
   "execution_count": 46,
   "id": "bb00b9af-bf41-458e-848e-5b4625052e50",
   "metadata": {},
   "outputs": [],
   "source": [
    "def extract_ner_from_strings(strings_array):\n",
    "    nlp = spacy.load('en_core_web_sm')    \n",
    "    all_entities = []\n",
    "    \n",
    "    for text in strings_array:\n",
    "        doc = nlp(text)\n",
    "        \n",
    "        for ent in doc.ents:\n",
    "            all_entities.append((ent.text, ent.label_))\n",
    "    \n",
    "    return all_entities"
   ]
  },
  {
   "cell_type": "code",
   "execution_count": 48,
   "id": "ff825d1a-970b-40c2-81ae-3410097ce378",
   "metadata": {},
   "outputs": [],
   "source": [
    "ner = extract_ner_from_strings(documents)"
   ]
  },
  {
   "cell_type": "code",
   "execution_count": 55,
   "id": "498a4650-1001-494a-83ba-284a78b1b459",
   "metadata": {},
   "outputs": [
    {
     "data": {
      "text/plain": [
       "[('almost 3 hours', 'TIME'), ('at least the third', 'DATE')]"
      ]
     },
     "execution_count": 55,
     "metadata": {},
     "output_type": "execute_result"
    }
   ],
   "source": [
    "ner[0:2]"
   ]
  },
  {
   "cell_type": "markdown",
   "id": "42c39eb7-2ee0-4387-b031-baaad42f579e",
   "metadata": {},
   "source": [
    "# Replace NER Entities with Placeholders\n",
    "\n",
    "This script processes conversations and replaces named entities (NER) in user and assistant messages with placeholders for further analysis.\n",
    "\n",
    "**Example:**  \n",
    "Original: \"I traveled from London to Manchester.\"  \n",
    "Replaced: \"I traveled from [GPE] to [GPE].\""
   ]
  },
  {
   "cell_type": "code",
   "execution_count": 13,
   "id": "cf586394-50c2-4327-821a-f356b3f392b9",
   "metadata": {},
   "outputs": [],
   "source": [
    "def replace_ner_with_placeholders(conversations):\n",
    "    nlp = spacy.load('en_core_web_trf')\n",
    "    \n",
    "    def replace_entities(text):\n",
    "        doc = nlp(text)\n",
    "        for ent in doc.ents:\n",
    "            placeholder = f\"[{ent.label_}]\"\n",
    "            text = text.replace(ent.text, placeholder)\n",
    "        return text\n",
    "    \n",
    "    processed_conversations = []\n",
    "    for conversation in conversations:\n",
    "        processed_conversation = []\n",
    "        for message in conversation:\n",
    "            if message[\"role\"] in {\"user\", \"assistant\"}:\n",
    "                new_message = message.copy()\n",
    "                new_message[\"content\"] = replace_entities(message[\"content\"])\n",
    "                processed_conversation.append(new_message)\n",
    "            else:\n",
    "                processed_conversation.append(message)\n",
    "        processed_conversations.append(processed_conversation)\n",
    "    \n",
    "    return processed_conversations"
   ]
  },
  {
   "cell_type": "code",
   "execution_count": 14,
   "id": "7b3a10df-5b0d-4f36-b0ff-fcc0287c2874",
   "metadata": {},
   "outputs": [],
   "source": [
    "conversations_ner_replaced = replace_ner_with_placeholders(conversations_with_negative_messages[0:20])"
   ]
  },
  {
   "cell_type": "code",
   "execution_count": 15,
   "id": "61729fb2-d40a-4ce2-90e5-cd77890d248d",
   "metadata": {},
   "outputs": [
    {
     "data": {
      "text/plain": [
       "[{'role': 'system',\n",
       "  'content': 'You are a polite customer assistant whose goal is to provide effective help.'},\n",
       " {'role': 'user',\n",
       "  'content': 'For at least the [ORDINAL] time [DATE] I will miss the meeting I especially took the train for in the [ORDINAL] place So often late No refund because it doesnt qualify [DATE] car'},\n",
       " {'role': 'assistant',\n",
       "  'content': 'Hi [PERSON] really sorry to hear this Which service are you travelling on please'},\n",
       " {'role': 'user',\n",
       "  'content': 'The [PRODUCT] from [GPE] Now Im here waiting on the [PRODUCT] from [GPE] int Also late'},\n",
       " {'role': 'assistant',\n",
       "  'content': 'Sadly the service has been delayed due to a fault on the line'},\n",
       " {'role': 'user',\n",
       "  'content': 'Always some supposedly acceptable reason yes I get that but when one uses the trains [DATE] and spends a lot of money for it to be late regularly is just not acceptable'},\n",
       " {'role': 'assistant',\n",
       "  'content': 'I understand the frustration this causes [PERSON]'},\n",
       " {'role': 'user',\n",
       "  'content': 'Oh thats nice What are you doing about it What are you targets [DATE]'},\n",
       " {'role': 'assistant',\n",
       "  'content': 'These delays are out of our control but we do work with [ORG] to try and reduce any problems'},\n",
       " {'role': 'user',\n",
       "  'content': 'What are your targets for [DATE] I see your prices go up so I assume youve set performance targets reflective of that'},\n",
       " {'role': 'assistant',\n",
       "  'content': 'We dont have that information here Im afraid [PERSON]'}]"
      ]
     },
     "execution_count": 15,
     "metadata": {},
     "output_type": "execute_result"
    }
   ],
   "source": [
    "conversations_ner_replaced[1]"
   ]
  },
  {
   "cell_type": "code",
   "execution_count": 19,
   "id": "472dd6c8-35b5-45ac-a061-6531596d8959",
   "metadata": {},
   "outputs": [
    {
     "data": {
      "text/plain": [
       "[[{'role': 'system',\n",
       "   'content': 'You are a polite customer assistant whose goal is to provide effective help.'},\n",
       "  {'role': 'user',\n",
       "   'content': 'any chance you can do something about the 2 drunk ladies causing havoc on the 1747 from Liverpool lime street to London Euston Abusive to fellow passengers amp general behaviour leaving a lot to be desired'},\n",
       "  {'role': 'assistant',\n",
       "   'content': 'Really sorry to hear this Please do report this to the onboard team and they should be able to assist you further'},\n",
       "  {'role': 'user', 'content': 'Where are they located on train'},\n",
       "  {'role': 'assistant',\n",
       "   'content': 'They should be making their way through during the journey You can also find the Train Manager in Coach C'},\n",
       "  {'role': 'user',\n",
       "   'content': 'Couldnt find anyone Very annoyed by their antics'},\n",
       "  {'role': 'assistant',\n",
       "   'content': 'Sorry to hear that the Train Manager should be making their way through'},\n",
       "  {'role': 'user',\n",
       "   'content': 'Noone came through before we got off at Stafford I pity the passengers who had to put up with them still on train to London Euston'},\n",
       "  {'role': 'assistant',\n",
       "   'content': 'Really sorry again well be sure to pass your comments on in regards to this'},\n",
       "  {'role': 'user',\n",
       "   'content': 'Rather have a refund for ticket for the station staff allowing ppl drunk on the train in the 1st place Racist foul mouthed louts which scared the kids on the train'},\n",
       "  {'role': 'assistant',\n",
       "   'content': 'Im afraid we wouldnt be able to offer a refund for this apologies'},\n",
       "  {'role': 'user',\n",
       "   'content': 'So you dont have a duty of care for your passengers then These 2 wouldnt have been allowed into any other premises with their behaviour or would have been promptly removed'},\n",
       "  {'role': 'user', 'content': 'Thanks for ignoring my reply'},\n",
       "  {'role': 'assistant',\n",
       "   'content': 'This can be escalated further with Customer Relations via the online complaints link'}]]"
      ]
     },
     "execution_count": 19,
     "metadata": {},
     "output_type": "execute_result"
    }
   ],
   "source": [
    "conversations_with_negative_messages[2:3]"
   ]
  },
  {
   "cell_type": "code",
   "execution_count": 17,
   "id": "c25cf91a-e639-4ded-8aec-af6df91b8c62",
   "metadata": {},
   "outputs": [],
   "source": [
    "conversations_ner_replaced = replace_ner_with_placeholders(conversations_with_negative_messages[0:1000])"
   ]
  },
  {
   "cell_type": "code",
   "execution_count": 18,
   "id": "884951b3-866b-4a60-9e22-b8581c713a1c",
   "metadata": {},
   "outputs": [],
   "source": [
    "with jsonlines.open(\"openai_files/multi_turn_conversation_virgin_ner_replaced.jsonl\", mode='w') as writer:\n",
    "    writer.write_all(conversations_ner_replaced)"
   ]
  },
  {
   "cell_type": "code",
   "execution_count": 25,
   "id": "5be4895f-9b13-4106-8498-2a324de855df",
   "metadata": {},
   "outputs": [],
   "source": [
    "def generate_qa_pairs(conversations):\n",
    "    qa_pairs = []\n",
    "    \n",
    "    for conversation in conversations:\n",
    "        user_message = None\n",
    "        assistant_message = None\n",
    "        \n",
    "        for message in conversation:\n",
    "            if message['role'] == 'user' and user_message is None:\n",
    "                sentiment_score = sia.polarity_scores(message['content'])[\"compound\"]\n",
    "                if sentiment_score < -0.3:\n",
    "                    user_message = message['content']\n",
    "            elif message['role'] == 'assistant' and user_message is not None:\n",
    "                assistant_message = message['content']\n",
    "            \n",
    "            if user_message and assistant_message:\n",
    "                qa_pairs.append({\n",
    "                    \"question\": user_message,\n",
    "                    \"expected_response\": assistant_message\n",
    "                })\n",
    "                user_message = None\n",
    "                assistant_message = None\n",
    "    \n",
    "    return qa_pairs"
   ]
  },
  {
   "cell_type": "code",
   "execution_count": 26,
   "id": "4b9604b7-f0a0-4389-a242-917c97f8b0da",
   "metadata": {},
   "outputs": [],
   "source": [
    "qa_pairs = generate_qa_pairs(conversations_with_negative_messages[1000:])"
   ]
  },
  {
   "cell_type": "code",
   "execution_count": 27,
   "id": "d5fdfa9a-00f1-4c89-82f9-425e8498edc0",
   "metadata": {},
   "outputs": [
    {
     "data": {
      "text/plain": [
       "[{'question': 'handling customer service complaints witheven worse customer service',\n",
       "  'expected_response': 'Hi Joshua this account has nothing to do with us please ignore them'},\n",
       " {'question': 'Hello have you got rid of the unreserved coaches FU The McrEuston trains I got at the weekend seemed to suggest so All coaches had reservations',\n",
       "  'expected_response': 'No on 11 cars itll be on U and C on 9 cars it will be coach C'},\n",
       " {'question': 'Hey cancelling the 1310 and then not having a train manager for the 1330 not cool',\n",
       "  'expected_response': 'Travelling from where'},\n",
       " {'question': 'On the 1247 from Lime Street to Euston the smell from the toilets is vile Smells like a turd covered in burnt hair',\n",
       "  'expected_response': 'Sorry to hear that have you spoken to the staff on board regarding it'},\n",
       " {'question': '2017 A mad world',\n",
       "  'expected_response': 'Which service is that Thomas'},\n",
       " {'question': 'booked advance tickets with 2together railcard One unable to travel now as father critically ill can tickets still be used',\n",
       "  'expected_response': 'Sorry to hear this Sharon we would advise you speak with our Aftersales team on 0344 556 5650'},\n",
       " {'question': 'wouldnt have minded but I actually paid a visit to Euston to ask for advice and was told no need to book',\n",
       "  'expected_response': 'Sorry to hear this Jacqui we recommend booking a seat reservation where at all possible'},\n",
       " {'question': 'Stuck between Stockport amp Manchester Accident in Lenenshulme Any idea what happens next 2020 from Euston',\n",
       "  'expected_response': 'Yes there is a trespass incident at Lenenshulme Options are being explored to either divert or proceed at caution'},\n",
       " {'question': 'Assisted Travel messed up today BIG TIME My mother sat on the floor for most of her journey',\n",
       "  'expected_response': 'Really sorry to hear this Mohamed which service was your mother travelling on'},\n",
       " {'question': 'She was put on the wrong coach and as you are aware it is half term so the train was FULL',\n",
       "  'expected_response': '22 here and the team will look into this further for you'}]"
      ]
     },
     "execution_count": 27,
     "metadata": {},
     "output_type": "execute_result"
    }
   ],
   "source": [
    "qa_pairs[0:10]"
   ]
  },
  {
   "cell_type": "code",
   "execution_count": 28,
   "id": "bad6a59f-a041-426e-9b7a-1aba05bbc672",
   "metadata": {},
   "outputs": [],
   "source": [
    "with jsonlines.open(\"openai_files/qa_pairs_evaluation_set.jsonl\", mode='w') as writer:\n",
    "    writer.write_all(qa_pairs)"
   ]
  },
  {
   "cell_type": "code",
   "execution_count": null,
   "id": "d8d164a1-eddf-4bd8-b5b8-810ab58ec39b",
   "metadata": {},
   "outputs": [],
   "source": []
  }
 ],
 "metadata": {
  "kernelspec": {
   "display_name": "Python (finetenv)",
   "language": "python",
   "name": "finetenv"
  },
  "language_info": {
   "codemirror_mode": {
    "name": "ipython",
    "version": 3
   },
   "file_extension": ".py",
   "mimetype": "text/x-python",
   "name": "python",
   "nbconvert_exporter": "python",
   "pygments_lexer": "ipython3",
   "version": "3.11.11"
  }
 },
 "nbformat": 4,
 "nbformat_minor": 5
}
