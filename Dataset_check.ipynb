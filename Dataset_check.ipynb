{
 "cells": [
  {
   "cell_type": "code",
   "execution_count": 12,
   "id": "6424ab8a-5349-47e9-9de0-569365cd2c5a",
   "metadata": {},
   "outputs": [],
   "source": [
    "import json\n",
    "import tiktoken\n",
    "from collections import defaultdict\n",
    "import numpy as np"
   ]
  },
  {
   "cell_type": "code",
   "execution_count": 3,
   "id": "5815db07-c2eb-40f0-9c2d-2a0631022c1c",
   "metadata": {},
   "outputs": [],
   "source": [
    "def count_tokens_in_jsonl(file_path, model=\"gpt-4o-mini\"):\n",
    "    # Load the tokenizer for the specified model\n",
    "    encoding = tiktoken.encoding_for_model(model)\n",
    "\n",
    "    total_tokens = 0\n",
    "\n",
    "    # Open JSONL-file and proces row by row\n",
    "    with open(file_path, \"r\", encoding=\"utf-8\") as file:\n",
    "        for line in file:\n",
    "            data = json.loads(line)  # Load JSON-object\n",
    "            messages = data.get(\"messages\", [])\n",
    "            \n",
    "            for message in messages:\n",
    "                content = message.get(\"content\", \"\")\n",
    "                total_tokens += len(encoding.encode(content))\n",
    "\n",
    "    print(f\"Total tokens in {file_path}: {total_tokens}\")\n",
    "    return total_tokens"
   ]
  },
  {
   "cell_type": "code",
   "execution_count": 4,
   "id": "ed052218-b80e-4455-81af-da6dafa044ec",
   "metadata": {},
   "outputs": [],
   "source": [
    "file_train_path = 'multi_turn_conversation_train.jsonl'\n",
    "file_val_path = 'multi_turn_conversation_val.jsonl'"
   ]
  },
  {
   "cell_type": "code",
   "execution_count": 5,
   "id": "eaf214e8-1265-478e-a6b2-a37d4cc34966",
   "metadata": {},
   "outputs": [
    {
     "name": "stdout",
     "output_type": "stream",
     "text": [
      "Total tokens in multi_turn_conversation_train.jsonl: 1683\n",
      "Total tokens in multi_turn_conversation_val.jsonl: 297\n"
     ]
    },
    {
     "data": {
      "text/plain": [
       "297"
      ]
     },
     "execution_count": 5,
     "metadata": {},
     "output_type": "execute_result"
    }
   ],
   "source": [
    "count_tokens_in_jsonl(file_train_path)\n",
    "count_tokens_in_jsonl(file_val_path)"
   ]
  },
  {
   "cell_type": "code",
   "execution_count": 6,
   "id": "66c706a8-f7d9-4c87-adbf-3244a6b47e03",
   "metadata": {},
   "outputs": [
    {
     "name": "stdout",
     "output_type": "stream",
     "text": [
      "Num examples: 19\n",
      "First example:\n",
      "{'role': 'system', 'content': 'You are a polite and professional assistant committed to delivering excellent service.'}\n",
      "{'role': 'user', 'content': 'My internet is down and xfinity talkin about 2472 hours yall have the game messed up'}\n",
      "{'role': 'assistant', 'content': 'I understand this is a frustrating experience please send a DM with your account information so I can look into this matter for you AD'}\n"
     ]
    }
   ],
   "source": [
    "# Dataset validation\n",
    "with open(file_train_path, 'r', encoding='utf-8') as f:\n",
    "    dataset = [json.loads(line) for line in f]\n",
    "\n",
    "# Initial dataset stats\n",
    "print(\"Num examples:\", len(dataset))\n",
    "print(\"First example:\")\n",
    "for message in dataset[0][\"messages\"]:\n",
    "    print(message)"
   ]
  },
  {
   "cell_type": "code",
   "execution_count": 9,
   "id": "c04ffbcc-d5dd-467e-9996-6f6bf69a8019",
   "metadata": {},
   "outputs": [
    {
     "name": "stdout",
     "output_type": "stream",
     "text": [
      "No errors found\n"
     ]
    }
   ],
   "source": [
    "# Format error checks\n",
    "format_errors = defaultdict(int)\n",
    "\n",
    "for ex in dataset:\n",
    "    if not isinstance(ex, dict):\n",
    "        format_errors[\"data_type\"] += 1\n",
    "        continue\n",
    "        \n",
    "    messages = ex.get(\"messages\", None)\n",
    "    if not messages:\n",
    "        format_errors[\"missing_messages_list\"] += 1\n",
    "        continue\n",
    "        \n",
    "    for message in messages:\n",
    "        if \"role\" not in message or \"content\" not in message:\n",
    "            format_errors[\"message_missing_key\"] += 1\n",
    "        \n",
    "        if any(k not in (\"role\", \"content\", \"name\", \"function_call\", \"weight\") for k in message):\n",
    "            format_errors[\"message_unrecognized_key\"] += 1\n",
    "        \n",
    "        if message.get(\"role\", None) not in (\"system\", \"user\", \"assistant\", \"function\"):\n",
    "            format_errors[\"unrecognized_role\"] += 1\n",
    "            \n",
    "        content = message.get(\"content\", None)\n",
    "        function_call = message.get(\"function_call\", None)\n",
    "        \n",
    "        if (not content and not function_call) or not isinstance(content, str):\n",
    "            format_errors[\"missing_content\"] += 1\n",
    "    \n",
    "    if not any(message.get(\"role\", None) == \"assistant\" for message in messages):\n",
    "        format_errors[\"example_missing_assistant_message\"] += 1\n",
    "\n",
    "if format_errors:\n",
    "    print(\"Found errors:\")\n",
    "    for k, v in format_errors.items():\n",
    "        print(f\"{k}: {v}\")\n",
    "else:\n",
    "    print(\"No errors found\")"
   ]
  },
  {
   "cell_type": "code",
   "execution_count": 10,
   "id": "605bed32-bfea-4fe2-bbad-39db1be7f92b",
   "metadata": {},
   "outputs": [],
   "source": [
    "def print_distribution(values, name):\n",
    "    print(f\"\\n#### Distribution of {name}:\")\n",
    "    print(f\"min / max: {min(values)}, {max(values)}\")\n",
    "    print(f\"mean / median: {np.mean(values)}, {np.median(values)}\")\n",
    "    print(f\"p5 / p95: {np.quantile(values, 0.1)}, {np.quantile(values, 0.9)}\")"
   ]
  },
  {
   "cell_type": "code",
   "execution_count": 13,
   "id": "999d86a7-e82b-4fc9-9afc-0d5f16780c21",
   "metadata": {},
   "outputs": [
    {
     "name": "stdout",
     "output_type": "stream",
     "text": [
      "Num examples missing assistant message: 0\n",
      "Num examples missing user message: 0\n",
      "\n",
      "#### Distribution of num_messages_per_example:\n",
      "min / max: 3, 9\n",
      "mean / median: 4.7368421052631575, 4.0\n",
      "p5 / p95: 3.0, 8.2\n"
     ]
    }
   ],
   "source": [
    "# Warnings and tokens counts\n",
    "n_missing_system = 0\n",
    "n_missing_user = 0\n",
    "n_messages = []\n",
    "\n",
    "for ex in dataset:\n",
    "    messages = ex[\"messages\"]\n",
    "    if not any(message[\"role\"] == \"assistant\" for message in messages):\n",
    "        n_missing_system += 1\n",
    "    if not any(message[\"role\"] == \"user\" for message in messages):\n",
    "        n_missing_user += 1\n",
    "    n_messages.append(len(messages))\n",
    "    \n",
    "print(\"Num examples missing assistant message:\", n_missing_system)\n",
    "print(\"Num examples missing user message:\", n_missing_user)\n",
    "print_distribution(n_messages, \"num_messages_per_example\")"
   ]
  }
 ],
 "metadata": {
  "kernelspec": {
   "display_name": "Python (finetenv)",
   "language": "python",
   "name": "finetenv"
  },
  "language_info": {
   "codemirror_mode": {
    "name": "ipython",
    "version": 3
   },
   "file_extension": ".py",
   "mimetype": "text/x-python",
   "name": "python",
   "nbconvert_exporter": "python",
   "pygments_lexer": "ipython3",
   "version": "3.11.11"
  }
 },
 "nbformat": 4,
 "nbformat_minor": 5
}
